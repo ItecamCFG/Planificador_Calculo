{
 "cells": [
  {
   "cell_type": "code",
   "execution_count": null,
   "id": "6ce08ec6",
   "metadata": {
    "vscode": {
     "languageId": "plaintext"
    }
   },
   "outputs": [],
   "source": [
    "import pulp\n",
    "from dataclasses import dataclass, field\n",
    "from typing import List, Dict, Optional"
   ]
  },
  {
   "cell_type": "code",
   "execution_count": null,
   "id": "70d08429",
   "metadata": {
    "vscode": {
     "languageId": "plaintext"
    }
   },
   "outputs": [],
   "source": [
    "# 1. DEFINICIÓN DE ESTRUCTURAS DE DATOS (Adaptado de data_models.py)\n",
    "# --------------------------------------------------------------------\n",
    "@dataclass\n",
    "class Resource:\n",
    "    name: str\n",
    "    availability: Dict[str, float] = field(default_factory=dict)\n",
    "\n",
    "@dataclass\n",
    "class Task:\n",
    "    id: str\n",
    "    name: str\n",
    "    project_id: str\n",
    "    hours: float\n",
    "    sequence: int\n",
    "    compatible_resources: List[str] = field(default_factory=list)\n",
    "    subcontractable: bool = False\n",
    "    predecessors: List[str] = field(default_factory=list) # Lista de IDs de tareas predecesoras\n",
    "\n",
    "@dataclass\n",
    "class Project:\n",
    "    id: str\n",
    "    name: str\n"
   ]
  },
  {
   "cell_type": "code",
   "execution_count": null,
   "id": "fd98c155",
   "metadata": {
    "vscode": {
     "languageId": "plaintext"
    }
   },
   "outputs": [],
   "source": [
    "# 2. INSTANCIA DEL PROBLEMA (Datos de prueba sencillos)\n",
    "# --------------------------------------------------------------------\n",
    "def get_instancia_sencilla():\n",
    "    \"\"\"Devuelve un conjunto de datos simple para probar el modelo.\"\"\"\n",
    "    proyectos = [\n",
    "        Project(id=\"P1\", name=\"Proyecto Alpha\"),\n",
    "        Project(id=\"P2\", name=\"Proyecto Beta\")\n",
    "    ]\n",
    "\n",
    "    tareas = [\n",
    "        # Tareas del Proyecto Alpha\n",
    "        Task(id=\"T1\", name=\"Análisis Alpha\", project_id=\"P1\", hours=8, sequence=1, compatible_resources=[\"Recurso A\", \"Recurso B\"]),\n",
    "        Task(id=\"T2\", name=\"Diseño Alpha\", project_id=\"P1\", hours=12, sequence=2, compatible_resources=[\"Recurso A\"], predecessors=[\"T1\"]),\n",
    "        # Tareas del Proyecto Beta\n",
    "        Task(id=\"T3\", name=\"Investigación Beta\", project_id=\"P2\", hours=10, sequence=1, compatible_resources=[\"Recurso A\", \"Recurso B\"], subcontractable=True),\n",
    "        Task(id=\"T4\", name=\"Prototipo Beta\", project_id=\"P2\", hours=16, sequence=2, compatible_resources=[\"Recurso B\"], predecessors=[\"T3\"])\n",
    "    ]\n",
    "\n",
    "    recursos = [\n",
    "        Resource(name=\"Recurso A\", availability={\"Lunes\": 8, \"Martes\": 8, \"Miercoles\": 8, \"Jueves\": 8, \"Viernes\": 4}),\n",
    "        Resource(name=\"Recurso B\", availability={\"Lunes\": 8, \"Martes\": 8, \"Miercoles\": 8, \"Jueves\": 8, \"Viernes\": 8})\n",
    "    ]\n",
    "    \n",
    "    # Parámetros del modelo\n",
    "    parametros = {\n",
    "        \"horizonte_dias\": 20, # Planificamos para 20 días\n",
    "        \"alpha\": 100, # Beneficio por proyecto interno\n",
    "        \"beta\": 50, # Beneficio por proyecto subcontratado\n",
    "        \"dias_laborables\": [\"Lunes\", \"Martes\", \"Miercoles\", \"Jueves\", \"Viernes\"]\n",
    "    }\n",
    "\n",
    "    return proyectos, tareas, recursos, parametros"
   ]
  },
  {
   "cell_type": "code",
   "execution_count": null,
   "id": "b01ac608",
   "metadata": {
    "vscode": {
     "languageId": "plaintext"
    }
   },
   "outputs": [],
   "source": [
    "# 3. CLASE DEL OPTIMIZADOR CON PULP\n",
    "# --------------------------------------------------------------------\n",
    "class OptimizadorProyectos:\n",
    "    \"\"\"\n",
    "    Implementa el modelo de optimización para maximizar proyectos completados.\n",
    "    \"\"\"\n",
    "    def __init__(self, proyectos, tareas, recursos, params):\n",
    "        self.proyectos = proyectos\n",
    "        self.tareas = tareas\n",
    "        self.recursos = recursos\n",
    "        self.params = params\n",
    "        \n",
    "        # Estructuras de datos para fácil acceso\n",
    "        self.task_map = {t.id: t for t in self.tareas}\n",
    "        \n",
    "        # Modelo PuLP\n",
    "        self.model = pulp.LpProblem(\"Maximizacion_Proyectos\", pulp.LpMaximize)\n",
    "        self.vars = {}\n",
    "\n",
    "    def construir_modelo(self):\n",
    "        \"\"\"Traduce el modelo matemático a código PuLP.\"\"\"\n",
    "        H = self.params[\"horizonte_dias\"]\n",
    "        DIAS = list(range(1, H + 1))\n",
    "        \n",
    "        # --- Variables de Decisión ---\n",
    "        self.vars['x'] = pulp.LpVariable.dicts(\"horas\",\n",
    "            ((t.id, r.name, d) for t in self.tareas for r in self.recursos for d in DIAS),\n",
    "            lowBound=0, cat='Continuous')\n",
    "        \n",
    "        self.vars['s'] = pulp.LpVariable.dicts(\"inicio_tarea\", (t.id for t in self.tareas), lowBound=1, cat='Integer')\n",
    "        self.vars['e'] = pulp.LpVariable.dicts(\"fin_tarea\", (t.id for t in self.tareas), lowBound=1, cat='Integer')\n",
    "        \n",
    "        self.vars['SubT'] = pulp.LpVariable.dicts(\"subcontrata_tarea\", (t.id for t in self.tareas), cat='Binary')\n",
    "        self.vars['C'] = pulp.LpVariable.dicts(\"completa_proyecto\", (p.id for p in self.proyectos), cat='Binary')\n",
    "        self.vars['SubP'] = pulp.LpVariable.dicts(\"subcontrata_proyecto\", (p.id for p in self.proyectos), cat='Binary')\n",
    "        \n",
    "        # Variables para linealización del objetivo\n",
    "        self.vars['CI'] = pulp.LpVariable.dicts(\"completa_interno\", (p.id for p in self.proyectos), cat='Binary')\n",
    "        self.vars['CS'] = pulp.LpVariable.dicts(\"completa_subcontratado\", (p.id for p in self.proyectos), cat='Binary')\n",
    "        \n",
    "        # --- Función Objetivo ---\n",
    "        alpha = self.params['alpha']\n",
    "        beta = self.params['beta']\n",
    "        self.model += pulp.lpSum(alpha * self.vars['CI'][p.id] + beta * self.vars['CS'][p.id] for p in self.proyectos), \"Beneficio_Total_Proyectos\"\n",
    "\n",
    "        # --- Restricciones ---\n",
    "        \n",
    "        # 1. Dedicación de Horas\n",
    "        for t in self.tareas:\n",
    "            self.model += pulp.lpSum(self.vars['x'][t.id, r.name, d] for r in self.recursos if r.name in t.compatible_resources for d in DIAS) == t.hours * (1 - self.vars['SubT'][t.id]), f\"Horas_Tarea_{t.id}\"\n",
    "\n",
    "        # 2. Disponibilidad de Recursos\n",
    "        for r in self.recursos:\n",
    "            for d in DIAS:\n",
    "                # Mapear día numérico a nombre de día\n",
    "                dia_semana = self.params[\"dias_laborables\"][(d-1) % len(self.params[\"dias_laborables\"])]\n",
    "                disponibilidad = r.availability.get(dia_semana, 0)\n",
    "                self.model += pulp.lpSum(self.vars['x'][t.id, r.name, d] for t in self.tareas) <= disponibilidad, f\"Disponibilidad_{r.name}_{d}\"\n",
    "        \n",
    "        # 3. Secuencialidad\n",
    "        for t in self.tareas:\n",
    "            for pred_id in t.predecessors:\n",
    "                self.model += self.vars['s'][t.id] >= self.vars['e'][pred_id] + 1, f\"Secuencia_{pred_id}_{t.id}\"\n",
    "\n",
    "        # 4. Lógica de días de inicio y fin (versión simplificada)\n",
    "        M = H * 10 # Big M\n",
    "        for t in self.tareas:\n",
    "            for d in DIAS:\n",
    "                # Si se trabaja en el día d, el día de fin es al menos d\n",
    "                self.model += self.vars['e'][t.id] >= d * pulp.lpSum(self.vars['x'][t.id, r.name, d] for r in self.recursos) / M, f\"Def_Fin_{t.id}_{d}\"\n",
    "            # El inicio es antes o igual que el fin\n",
    "            self.model += self.vars['s'][t.id] <= self.vars['e'][t.id], f\"Inicio_antes_de_Fin_{t.id}\"\n",
    "\n",
    "        # 5. Completitud del Proyecto\n",
    "        for p in self.proyectos:\n",
    "            tareas_del_proyecto = [t for t in self.tareas if t.project_id == p.id]\n",
    "            if tareas_del_proyecto:\n",
    "                # El proyecto se completa si todas sus tareas finalizan dentro del horizonte\n",
    "                for t in tareas_del_proyecto:\n",
    "                     self.model += t.hours <= M * self.vars['C'][p.id] + M * self.vars['SubT'][t.id], f\"Completitud_{p.id}_{t.id}\"\n",
    "                     #self.model += self.vars['e']"
   ]
  }
 ],
 "metadata": {
  "language_info": {
   "name": "python"
  }
 },
 "nbformat": 4,
 "nbformat_minor": 5
}
